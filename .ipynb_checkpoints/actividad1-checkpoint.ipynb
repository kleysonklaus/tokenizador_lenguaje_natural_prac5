{
 "cells": [
  {
   "cell_type": "code",
   "execution_count": 1,
   "metadata": {},
   "outputs": [],
   "source": [
    "from tensorflow.keras.preprocessing.text import Tokenizer"
   ]
  },
  {
   "cell_type": "code",
   "execution_count": 2,
   "metadata": {},
   "outputs": [
    {
     "name": "stdout",
     "output_type": "stream",
     "text": [
      "{'de': 1, 'en': 2, 'la': 3, 'un': 4, 'el': 5, 'que': 6, 'y': 7, 'los': 8, 'a': 9, 'una': 10, 'unicornios': 11, 'valle': 12, 'lo': 13, 'científico': 14, 'previamente': 15, 'las': 16, 'montañas': 17, 'andes': 18, 'para': 19, 'ciencia': 20, 'ahora': 21, 'dos': 22, 'pérez': 23, 'china': 24, 'historia': 25, 'hallazgo': 26, 'impactante': 27, 'descubrió': 28, 'manada': 29, 'viven': 30, 'remoto': 31, 'inexplorado': 32, 'aún': 33, 'más': 34, 'sorprendente': 35, 'investigadores': 36, 'fue': 37, 'hecho': 38, 'hablaran': 39, 'inglés': 40, 'perfecto': 41, 'homenaje': 42, 'su': 43, 'distintivo': 44, 'cuerno': 45, 'bautizó': 46, 'población': 47, 'como': 48, 'unicornio': 49, 'ovidio': 50, 'estos': 51, 'cuatro': 52, 'cuernos': 53, 'color': 54, 'blanco': 55, 'plateado': 56, 'eran': 57, 'desconocidos': 58, 'después': 59, 'casi': 60, 'siglos': 61, 'misterio': 62, 'provocó': 63, 'este': 64, 'extraño': 65, 'fenómeno': 66, 'se': 67, 'resuelve': 68, 'finalmente': 69, 'dr': 70, 'jorge': 71, 'biólogo': 72, 'evolutivo': 73, 'universidad': 74, 'paz': 75, 'varios': 76, 'compañeros': 77, 'estaban': 78, 'explorando': 79, 'cuando': 80, 'encontraron': 81, 'pequeño': 82, 'sin': 83, 'otros': 84, 'animales': 85, 'o': 86, 'humanos': 87, 'notó': 88, 'tenía': 89, 'parecía': 90, 'ser': 91, 'fuente': 92, 'natural': 93, 'rodeada': 94, 'por': 95, 'picos': 96, 'roca': 97, 'nieve': 98, 'plateada': 99, 'estaba': 100, 'mi': 101, 'coche': 102, 'camino': 103, 'nuevo': 104, 'trabajo': 105, 'seattle': 106, 'le': 107, 'puse': 108, 'gasolina': 109, 'metí': 110, 'llave': 111, 'luego': 112, 'dejé': 113, 'marchar': 114, 'me': 115, 'imaginé': 116, 'cómo': 117, 'sería': 118, 'día': 119, 'cien': 120, 'años': 121, 'partir': 122, '2045': 123, 'fui': 124, 'profesor': 125, 'alguna': 126, 'escuela': 127, 'zona': 128, 'pobre': 129, 'rural': 130, 'comencé': 131, 'con': 132}\n"
     ]
    }
   ],
   "source": [
    "sentences = [\n",
    "    'En un hallazgo impactante,',\n",
    "    'un científico descubrió una manada de unicornios',\n",
    "    'que viven en un valle remoto,',\n",
    "    'previamente inexplorado, en las montañas de los Andes.',\n",
    "    'Aún más sorprendente para los investigadores fue el hecho de que los unicornios hablaran un inglés perfecto.',\n",
    "#     parte generada por GPT-2\n",
    "    'En homenaje a su distintivo cuerno, el científico bautizó a la población como el Unicornio de Ovidio.',\n",
    "    'Estos unicornios de cuatro cuernos y de color blanco plateado eran previamente desconocidos para la ciencia.',\n",
    "    'Ahora, después de casi dos siglos,',\n",
    "    'el misterio de lo que provocó este extraño fenómeno se resuelve finalmente.',\n",
    "    'El Dr. Jorge Pérez, un biólogo evolutivo de la Universidad de La Paz,',\n",
    "    'y varios compañeros estaban explorando las montañas de los Andes',\n",
    "    'cuando encontraron un pequeño valle, sin otros animales o humanos.',\n",
    "    'Pérez notó que el valle tenía lo que parecía ser una fuente natural',\n",
    "    'rodeada por dos picos de roca y nieve plateada.',\n",
    "    'Estaba en mi coche camino a un nuevo trabajo en Seattle.',\n",
    "    'Le puse gasolina, metí la llave y luego lo dejé marchar.',\n",
    "    'Me imaginé cómo sería el día. Cien años a partir de ahora.',\n",
    "    'En 2045, fui profesor en alguna escuela en una zona pobre de la China rural.',\n",
    "    'Comencé con la historia china y la historia de la ciencia.'\n",
    "]\n",
    "tokenizer = Tokenizer(num_words = 1000)\n",
    "tokenizer.fit_on_texts(sentences)\n",
    "word_index = tokenizer.word_index\n",
    "print (word_index)"
   ]
  },
  {
   "cell_type": "code",
   "execution_count": 3,
   "metadata": {},
   "outputs": [
    {
     "name": "stdout",
     "output_type": "stream",
     "text": [
      "{'de': 1, 'en': 2, 'la': 3, 'un': 4, 'el': 5, 'que': 6, 'y': 7, 'los': 8, 'a': 9, 'una': 10, 'unicornios': 11, 'valle': 12, 'lo': 13, 'científico': 14, 'previamente': 15, 'las': 16, 'montañas': 17, 'andes': 18, 'para': 19, 'ciencia': 20, 'ahora': 21, 'dos': 22, 'pérez': 23, 'china': 24, 'historia': 25, 'hallazgo': 26, 'impactante': 27, 'descubrió': 28, 'manada': 29, 'viven': 30, 'remoto': 31, 'inexplorado': 32, 'aún': 33, 'más': 34, 'sorprendente': 35, 'investigadores': 36, 'fue': 37, 'hecho': 38, 'hablaran': 39, 'inglés': 40, 'perfecto': 41, 'homenaje': 42, 'su': 43, 'distintivo': 44, 'cuerno': 45, 'bautizó': 46, 'población': 47, 'como': 48, 'unicornio': 49, 'ovidio': 50, 'estos': 51, 'cuatro': 52, 'cuernos': 53, 'color': 54, 'blanco': 55, 'plateado': 56, 'eran': 57, 'desconocidos': 58, 'después': 59, 'casi': 60, 'siglos': 61, 'misterio': 62, 'provocó': 63, 'este': 64, 'extraño': 65, 'fenómeno': 66, 'se': 67, 'resuelve': 68, 'finalmente': 69, 'dr': 70, 'jorge': 71, 'biólogo': 72, 'evolutivo': 73, 'universidad': 74, 'paz': 75, 'varios': 76, 'compañeros': 77, 'estaban': 78, 'explorando': 79, 'cuando': 80, 'encontraron': 81, 'pequeño': 82, 'sin': 83, 'otros': 84, 'animales': 85, 'o': 86, 'humanos': 87, 'notó': 88, 'tenía': 89, 'parecía': 90, 'ser': 91, 'fuente': 92, 'natural': 93, 'rodeada': 94, 'por': 95, 'picos': 96, 'roca': 97, 'nieve': 98, 'plateada': 99, 'estaba': 100, 'mi': 101, 'coche': 102, 'camino': 103, 'nuevo': 104, 'trabajo': 105, 'seattle': 106, 'le': 107, 'puse': 108, 'gasolina': 109, 'metí': 110, 'llave': 111, 'luego': 112, 'dejé': 113, 'marchar': 114, 'me': 115, 'imaginé': 116, 'cómo': 117, 'sería': 118, 'día': 119, 'cien': 120, 'años': 121, 'partir': 122, '2045': 123, 'fui': 124, 'profesor': 125, 'alguna': 126, 'escuela': 127, 'zona': 128, 'pobre': 129, 'rural': 130, 'comencé': 131, 'con': 132}\n",
      "[[2, 4, 26, 27], [4, 14, 28, 10, 29, 1, 11], [6, 30, 2, 4, 12, 31], [15, 32, 2, 16, 17, 1, 8, 18], [33, 34, 35, 19, 8, 36, 37, 5, 38, 1, 6, 8, 11, 39, 4, 40, 41], [2, 42, 9, 43, 44, 45, 5, 14, 46, 9, 3, 47, 48, 5, 49, 1, 50], [51, 11, 1, 52, 53, 7, 1, 54, 55, 56, 57, 15, 58, 19, 3, 20], [21, 59, 1, 60, 22, 61], [5, 62, 1, 13, 6, 63, 64, 65, 66, 67, 68, 69], [5, 70, 71, 23, 4, 72, 73, 1, 3, 74, 1, 3, 75], [7, 76, 77, 78, 79, 16, 17, 1, 8, 18], [80, 81, 4, 82, 12, 83, 84, 85, 86, 87], [23, 88, 6, 5, 12, 89, 13, 6, 90, 91, 10, 92, 93], [94, 95, 22, 96, 1, 97, 7, 98, 99], [100, 2, 101, 102, 103, 9, 4, 104, 105, 2, 106], [107, 108, 109, 110, 3, 111, 7, 112, 13, 113, 114], [115, 116, 117, 118, 5, 119, 120, 121, 9, 122, 1, 21], [2, 123, 124, 125, 2, 126, 127, 2, 10, 128, 129, 1, 3, 24, 130], [131, 132, 3, 25, 24, 7, 3, 25, 1, 3, 20]]\n"
     ]
    }
   ],
   "source": [
    "sentences2 = [\n",
    "    'En un hallazgo impactante,',\n",
    "    'un científico descubrió una manada de unicornios',\n",
    "    'que viven en un valle remoto,',\n",
    "    'previamente inexplorado, en las montañas de los Andes.',\n",
    "    'Aún más sorprendente para los investigadores fue el hecho de que los unicornios hablaran un inglés perfecto.',\n",
    "#     parte generada por GPT-2\n",
    "    'En homenaje a su distintivo cuerno, el científico bautizó a la población como el Unicornio de Ovidio.',\n",
    "    'Estos unicornios de cuatro cuernos y de color blanco plateado eran previamente desconocidos para la ciencia.',\n",
    "    'Ahora, después de casi dos siglos,',\n",
    "    'el misterio de lo que provocó este extraño fenómeno se resuelve finalmente.',\n",
    "    'El Dr. Jorge Pérez, un biólogo evolutivo de la Universidad de La Paz,',\n",
    "    'y varios compañeros estaban explorando las montañas de los Andes',\n",
    "    'cuando encontraron un pequeño valle, sin otros animales o humanos.',\n",
    "    'Pérez notó que el valle tenía lo que parecía ser una fuente natural',\n",
    "    'rodeada por dos picos de roca y nieve plateada.',\n",
    "    'Estaba en mi coche camino a un nuevo trabajo en Seattle.',\n",
    "    'Le puse gasolina, metí la llave y luego lo dejé marchar.',\n",
    "    'Me imaginé cómo sería el día. Cien años a partir de ahora.',\n",
    "    'En 2045, fui profesor en alguna escuela en una zona pobre de la China rural.',\n",
    "    'Comencé con la historia china y la historia de la ciencia.'\n",
    "]\n",
    "tokenizer2 = Tokenizer(num_words = 1000)\n",
    "tokenizer2.fit_on_texts(sentences2)\n",
    "word_index2 = tokenizer2.word_index\n",
    "sequences = tokenizer.texts_to_sequences(sentences2)\n",
    "print (word_index2)\n",
    "print (sequences)"
   ]
  },
  {
   "cell_type": "code",
   "execution_count": null,
   "metadata": {},
   "outputs": [],
   "source": []
  }
 ],
 "metadata": {
  "kernelspec": {
   "display_name": "Python 3",
   "language": "python",
   "name": "python3"
  },
  "language_info": {
   "codemirror_mode": {
    "name": "ipython",
    "version": 3
   },
   "file_extension": ".py",
   "mimetype": "text/x-python",
   "name": "python",
   "nbconvert_exporter": "python",
   "pygments_lexer": "ipython3",
   "version": "3.7.3"
  }
 },
 "nbformat": 4,
 "nbformat_minor": 2
}
